{
 "cells": [
  {
   "cell_type": "code",
   "execution_count": 1,
   "id": "3964d80e-6b10-4b8b-9549-1b6fdd0663ef",
   "metadata": {},
   "outputs": [],
   "source": [
    "import numpy as np\n",
    "import pandas as pd\n",
    "import matplotlib.pyplot as plt\n",
    "import seaborn as sns"
   ]
  },
  {
   "cell_type": "code",
   "execution_count": 2,
   "id": "625d0400-b4d2-4f5d-b22f-0be09baba4ea",
   "metadata": {},
   "outputs": [],
   "source": [
    "df = pd.read_csv(\"../DATA/Advertising.csv\")"
   ]
  },
  {
   "cell_type": "code",
   "execution_count": 3,
   "id": "75b4f084-e4e2-4982-9dbc-79ba0feca871",
   "metadata": {},
   "outputs": [
    {
     "data": {
      "text/html": [
       "<div>\n",
       "<style scoped>\n",
       "    .dataframe tbody tr th:only-of-type {\n",
       "        vertical-align: middle;\n",
       "    }\n",
       "\n",
       "    .dataframe tbody tr th {\n",
       "        vertical-align: top;\n",
       "    }\n",
       "\n",
       "    .dataframe thead th {\n",
       "        text-align: right;\n",
       "    }\n",
       "</style>\n",
       "<table border=\"1\" class=\"dataframe\">\n",
       "  <thead>\n",
       "    <tr style=\"text-align: right;\">\n",
       "      <th></th>\n",
       "      <th>TV</th>\n",
       "      <th>radio</th>\n",
       "      <th>newspaper</th>\n",
       "      <th>sales</th>\n",
       "    </tr>\n",
       "  </thead>\n",
       "  <tbody>\n",
       "    <tr>\n",
       "      <th>0</th>\n",
       "      <td>230.1</td>\n",
       "      <td>37.8</td>\n",
       "      <td>69.2</td>\n",
       "      <td>22.1</td>\n",
       "    </tr>\n",
       "    <tr>\n",
       "      <th>1</th>\n",
       "      <td>44.5</td>\n",
       "      <td>39.3</td>\n",
       "      <td>45.1</td>\n",
       "      <td>10.4</td>\n",
       "    </tr>\n",
       "    <tr>\n",
       "      <th>2</th>\n",
       "      <td>17.2</td>\n",
       "      <td>45.9</td>\n",
       "      <td>69.3</td>\n",
       "      <td>9.3</td>\n",
       "    </tr>\n",
       "    <tr>\n",
       "      <th>3</th>\n",
       "      <td>151.5</td>\n",
       "      <td>41.3</td>\n",
       "      <td>58.5</td>\n",
       "      <td>18.5</td>\n",
       "    </tr>\n",
       "    <tr>\n",
       "      <th>4</th>\n",
       "      <td>180.8</td>\n",
       "      <td>10.8</td>\n",
       "      <td>58.4</td>\n",
       "      <td>12.9</td>\n",
       "    </tr>\n",
       "  </tbody>\n",
       "</table>\n",
       "</div>"
      ],
      "text/plain": [
       "      TV  radio  newspaper  sales\n",
       "0  230.1   37.8       69.2   22.1\n",
       "1   44.5   39.3       45.1   10.4\n",
       "2   17.2   45.9       69.3    9.3\n",
       "3  151.5   41.3       58.5   18.5\n",
       "4  180.8   10.8       58.4   12.9"
      ]
     },
     "execution_count": 3,
     "metadata": {},
     "output_type": "execute_result"
    }
   ],
   "source": [
    "df.head()"
   ]
  },
  {
   "cell_type": "code",
   "execution_count": 4,
   "id": "9fdc5262-80a6-48d6-b306-ebc1ad9d67ef",
   "metadata": {},
   "outputs": [],
   "source": [
    "X = df.drop('sales', axis=1)"
   ]
  },
  {
   "cell_type": "code",
   "execution_count": 5,
   "id": "3c1fd2e8-d360-403a-957b-5779c753daf8",
   "metadata": {},
   "outputs": [],
   "source": [
    "y = df['sales']"
   ]
  },
  {
   "cell_type": "code",
   "execution_count": 32,
   "id": "b624c26c-6bb2-4ab6-888d-81b0fdee67cb",
   "metadata": {},
   "outputs": [],
   "source": [
    "from sklearn.model_selection import train_test_split"
   ]
  },
  {
   "cell_type": "code",
   "execution_count": 60,
   "id": "d839a0a5-a30f-4260-b9fc-cbe4d66c357a",
   "metadata": {},
   "outputs": [],
   "source": [
    "X_train, X_test, y_train, y_test = train_test_split(X, y, test_size=0.3, random_state=101)"
   ]
  },
  {
   "cell_type": "code",
   "execution_count": 61,
   "id": "e6d0095c-41cb-45d5-b96b-68ee891b86f6",
   "metadata": {},
   "outputs": [],
   "source": [
    "from sklearn.preprocessing import StandardScaler"
   ]
  },
  {
   "cell_type": "code",
   "execution_count": 62,
   "id": "14d7a7c1-bce1-427e-9d78-9433b6a25fde",
   "metadata": {},
   "outputs": [],
   "source": [
    "scaler = StandardScaler()"
   ]
  },
  {
   "cell_type": "code",
   "execution_count": 63,
   "id": "842ef24b-df4d-45cf-983b-f8c977921dd5",
   "metadata": {},
   "outputs": [
    {
     "data": {
      "text/plain": [
       "StandardScaler()"
      ]
     },
     "execution_count": 63,
     "metadata": {},
     "output_type": "execute_result"
    }
   ],
   "source": [
    "scaler.fit(X_train)"
   ]
  },
  {
   "cell_type": "code",
   "execution_count": 64,
   "id": "9551a2ef-2c8f-4930-87ca-b19282748316",
   "metadata": {},
   "outputs": [],
   "source": [
    "X_train = scaler.transform(X_train)"
   ]
  },
  {
   "cell_type": "code",
   "execution_count": 65,
   "id": "bd3521f3-8f50-4916-b089-b0617121c532",
   "metadata": {},
   "outputs": [],
   "source": [
    "X_test = scaler.transform(X_test)"
   ]
  },
  {
   "cell_type": "code",
   "execution_count": 66,
   "id": "2fd3fee6-8948-4163-8661-08cf44fb8d4b",
   "metadata": {},
   "outputs": [],
   "source": [
    "model = Ridge(alpha=100)"
   ]
  },
  {
   "cell_type": "code",
   "execution_count": 67,
   "id": "98bd45bd-3221-421b-b0e6-431a19ecfe9b",
   "metadata": {},
   "outputs": [],
   "source": [
    "from sklearn.model_selection import cross_val_score"
   ]
  },
  {
   "cell_type": "code",
   "execution_count": 68,
   "id": "c79379f2-a8da-4723-9b3d-d9c5c38d0221",
   "metadata": {},
   "outputs": [],
   "source": [
    "scores = cross_val_score(model,X_train, y_train, scoring='neg_mean_squared_error', cv=5)"
   ]
  },
  {
   "cell_type": "code",
   "execution_count": 69,
   "id": "4bf84f01-2d26-4e81-aaf8-8fa3aa8e9adc",
   "metadata": {},
   "outputs": [
    {
     "data": {
      "text/plain": [
       "array([ -9.32552967,  -4.9449624 , -11.39665242,  -7.0242106 ,\n",
       "        -8.38562723])"
      ]
     },
     "execution_count": 69,
     "metadata": {},
     "output_type": "execute_result"
    }
   ],
   "source": [
    "scores"
   ]
  },
  {
   "cell_type": "code",
   "execution_count": 70,
   "id": "a89cc775-b57d-483a-b0cb-465999650f24",
   "metadata": {},
   "outputs": [
    {
     "data": {
      "text/plain": [
       "8.215396464543607"
      ]
     },
     "execution_count": 70,
     "metadata": {},
     "output_type": "execute_result"
    }
   ],
   "source": [
    "abs(scores.mean())"
   ]
  },
  {
   "cell_type": "code",
   "execution_count": 71,
   "id": "d127a9f8-aa63-4269-a144-372bad483122",
   "metadata": {},
   "outputs": [],
   "source": [
    "model = Ridge(alpha=1)"
   ]
  },
  {
   "cell_type": "code",
   "execution_count": 72,
   "id": "bad9cd82-760a-4d15-957e-cf1d33922361",
   "metadata": {},
   "outputs": [],
   "source": [
    "scores = cross_val_score(model,X_train, y_train, scoring='neg_mean_squared_error', cv=5)"
   ]
  },
  {
   "cell_type": "code",
   "execution_count": 73,
   "id": "4af265ce-6953-4357-af08-ed38ef16fc24",
   "metadata": {},
   "outputs": [
    {
     "data": {
      "text/plain": [
       "3.344839296530695"
      ]
     },
     "execution_count": 73,
     "metadata": {},
     "output_type": "execute_result"
    }
   ],
   "source": [
    "abs(scores.mean())"
   ]
  },
  {
   "cell_type": "code",
   "execution_count": 74,
   "id": "1f75b150-f857-44cc-8eeb-3a72fc3ba05c",
   "metadata": {},
   "outputs": [
    {
     "data": {
      "text/plain": [
       "Ridge(alpha=1)"
      ]
     },
     "execution_count": 74,
     "metadata": {},
     "output_type": "execute_result"
    }
   ],
   "source": [
    "model.fit(X_train,y_train)"
   ]
  },
  {
   "cell_type": "code",
   "execution_count": 75,
   "id": "b9b1c2ae-7303-40a2-b4cb-8213551d36fa",
   "metadata": {},
   "outputs": [],
   "source": [
    "y_final_test_pred = model.predict(X_test)"
   ]
  },
  {
   "cell_type": "code",
   "execution_count": 76,
   "id": "455524c1-445a-41d9-b5ad-8f6c10f9bafa",
   "metadata": {},
   "outputs": [
    {
     "data": {
      "text/plain": [
       "2.3190215794287514"
      ]
     },
     "execution_count": 76,
     "metadata": {},
     "output_type": "execute_result"
    }
   ],
   "source": [
    "mean_squared_error(y_test,y_final_test_pred)"
   ]
  },
  {
   "cell_type": "code",
   "execution_count": 127,
   "id": "7880b1ea-e7a9-4a43-8a91-cdfec9546787",
   "metadata": {},
   "outputs": [],
   "source": [
    "## CREATE X and y\n",
    "X = df.drop('sales',axis=1)\n",
    "y = df['sales']\n",
    "\n",
    "# TRAIN TEST SPLIT\n",
    "from sklearn.model_selection import train_test_split\n",
    "X_train, X_test, y_train, y_test = train_test_split(X, y, test_size=0.3, random_state=101)\n",
    "\n",
    "# SCALE DATA\n",
    "from sklearn.preprocessing import StandardScaler\n",
    "scaler = StandardScaler()\n",
    "scaler.fit(X_train)\n",
    "X_train = scaler.transform(X_train)\n",
    "X_test = scaler.transform(X_test)"
   ]
  },
  {
   "cell_type": "code",
   "execution_count": 128,
   "id": "5c7f103a-8c88-4422-b2d9-9b67a040f4f2",
   "metadata": {},
   "outputs": [],
   "source": [
    "from sklearn.model_selection import cross_validate"
   ]
  },
  {
   "cell_type": "code",
   "execution_count": 129,
   "id": "41c559d9-c38f-445f-b4f5-4e5082ea6b20",
   "metadata": {},
   "outputs": [],
   "source": [
    "model = Ridge(alpha=100)"
   ]
  },
  {
   "cell_type": "code",
   "execution_count": 130,
   "id": "7ec1f9ab-4c5e-4d58-8ecc-c7987b10b022",
   "metadata": {},
   "outputs": [],
   "source": [
    "scores = cross_validate(model,X_train,y_train,scoring=['neg_mean_squared_error', 'neg_mean_absolute_error'], cv=5)"
   ]
  },
  {
   "cell_type": "code",
   "execution_count": 131,
   "id": "d664ae59-4959-406c-8422-eb8c27b61d32",
   "metadata": {},
   "outputs": [],
   "source": [
    "scores = pd.DataFrame(scores)"
   ]
  },
  {
   "cell_type": "code",
   "execution_count": 132,
   "id": "518958d1-f2f3-41ef-8319-1e6d0090aaa9",
   "metadata": {},
   "outputs": [
    {
     "data": {
      "text/html": [
       "<div>\n",
       "<style scoped>\n",
       "    .dataframe tbody tr th:only-of-type {\n",
       "        vertical-align: middle;\n",
       "    }\n",
       "\n",
       "    .dataframe tbody tr th {\n",
       "        vertical-align: top;\n",
       "    }\n",
       "\n",
       "    .dataframe thead th {\n",
       "        text-align: right;\n",
       "    }\n",
       "</style>\n",
       "<table border=\"1\" class=\"dataframe\">\n",
       "  <thead>\n",
       "    <tr style=\"text-align: right;\">\n",
       "      <th></th>\n",
       "      <th>fit_time</th>\n",
       "      <th>score_time</th>\n",
       "      <th>test_neg_mean_squared_error</th>\n",
       "      <th>test_neg_mean_absolute_error</th>\n",
       "    </tr>\n",
       "  </thead>\n",
       "  <tbody>\n",
       "    <tr>\n",
       "      <th>0</th>\n",
       "      <td>0.001669</td>\n",
       "      <td>0.000854</td>\n",
       "      <td>-9.325530</td>\n",
       "      <td>-2.312430</td>\n",
       "    </tr>\n",
       "    <tr>\n",
       "      <th>1</th>\n",
       "      <td>0.001251</td>\n",
       "      <td>0.002631</td>\n",
       "      <td>-4.944962</td>\n",
       "      <td>-1.746534</td>\n",
       "    </tr>\n",
       "    <tr>\n",
       "      <th>2</th>\n",
       "      <td>0.001620</td>\n",
       "      <td>0.001503</td>\n",
       "      <td>-11.396652</td>\n",
       "      <td>-2.562117</td>\n",
       "    </tr>\n",
       "    <tr>\n",
       "      <th>3</th>\n",
       "      <td>0.002526</td>\n",
       "      <td>0.003181</td>\n",
       "      <td>-7.024211</td>\n",
       "      <td>-2.018732</td>\n",
       "    </tr>\n",
       "    <tr>\n",
       "      <th>4</th>\n",
       "      <td>0.006024</td>\n",
       "      <td>0.000756</td>\n",
       "      <td>-8.385627</td>\n",
       "      <td>-2.279519</td>\n",
       "    </tr>\n",
       "  </tbody>\n",
       "</table>\n",
       "</div>"
      ],
      "text/plain": [
       "   fit_time  score_time  test_neg_mean_squared_error  \\\n",
       "0  0.001669    0.000854                    -9.325530   \n",
       "1  0.001251    0.002631                    -4.944962   \n",
       "2  0.001620    0.001503                   -11.396652   \n",
       "3  0.002526    0.003181                    -7.024211   \n",
       "4  0.006024    0.000756                    -8.385627   \n",
       "\n",
       "   test_neg_mean_absolute_error  \n",
       "0                     -2.312430  \n",
       "1                     -1.746534  \n",
       "2                     -2.562117  \n",
       "3                     -2.018732  \n",
       "4                     -2.279519  "
      ]
     },
     "execution_count": 132,
     "metadata": {},
     "output_type": "execute_result"
    }
   ],
   "source": [
    "scores"
   ]
  },
  {
   "cell_type": "code",
   "execution_count": 133,
   "id": "ad1ca88f-c1fd-43b3-ad32-36c69c2d52e8",
   "metadata": {},
   "outputs": [
    {
     "data": {
      "text/plain": [
       "fit_time                        0.002618\n",
       "score_time                      0.001785\n",
       "test_neg_mean_squared_error    -8.215396\n",
       "test_neg_mean_absolute_error   -2.183866\n",
       "dtype: float64"
      ]
     },
     "execution_count": 133,
     "metadata": {},
     "output_type": "execute_result"
    }
   ],
   "source": [
    "pd.DataFrame(scores).mean()"
   ]
  },
  {
   "cell_type": "code",
   "execution_count": 134,
   "id": "527356f7-1e9b-4606-b641-41b04ebcebc3",
   "metadata": {},
   "outputs": [],
   "source": [
    "model = Ridge(alpha=1)"
   ]
  },
  {
   "cell_type": "code",
   "execution_count": 135,
   "id": "d76d83ba-5a5e-49a1-9e37-5ba8c233657d",
   "metadata": {},
   "outputs": [],
   "source": [
    "scores = cross_validate(model,X_train,y_train,scoring=['neg_mean_squared_error', 'neg_mean_absolute_error'], cv=5)"
   ]
  },
  {
   "cell_type": "code",
   "execution_count": 136,
   "id": "72297473-2662-42dd-90c0-808c9a9bd71e",
   "metadata": {},
   "outputs": [],
   "source": [
    "scores = pd.DataFrame(scores)"
   ]
  },
  {
   "cell_type": "code",
   "execution_count": 137,
   "id": "2b3abb16-f23b-4a95-8e7a-6f4a4beeef06",
   "metadata": {},
   "outputs": [
    {
     "data": {
      "text/plain": [
       "fit_time                        0.001655\n",
       "score_time                      0.002460\n",
       "test_neg_mean_squared_error    -3.344839\n",
       "test_neg_mean_absolute_error   -1.319685\n",
       "dtype: float64"
      ]
     },
     "execution_count": 137,
     "metadata": {},
     "output_type": "execute_result"
    }
   ],
   "source": [
    "pd.DataFrame(scores).mean()"
   ]
  },
  {
   "cell_type": "code",
   "execution_count": 138,
   "id": "9f364d91-e2a9-4aaf-9a2e-512cf174bd99",
   "metadata": {},
   "outputs": [
    {
     "data": {
      "text/plain": [
       "Ridge(alpha=1)"
      ]
     },
     "execution_count": 138,
     "metadata": {},
     "output_type": "execute_result"
    }
   ],
   "source": [
    "model.fit(X_train,y_train)"
   ]
  },
  {
   "cell_type": "code",
   "execution_count": 139,
   "id": "d5564060-a7a3-4c88-9534-6fe969899e40",
   "metadata": {},
   "outputs": [],
   "source": [
    "y_final_test_pred = model.predict(X_test)"
   ]
  },
  {
   "cell_type": "code",
   "execution_count": 140,
   "id": "6aba5706-1cf7-4ba9-96eb-546ac3da26a5",
   "metadata": {},
   "outputs": [
    {
     "data": {
      "text/plain": [
       "2.3190215794287514"
      ]
     },
     "execution_count": 140,
     "metadata": {},
     "output_type": "execute_result"
    }
   ],
   "source": [
    "mean_squared_error(y_test,y_final_test_pred)"
   ]
  },
  {
   "cell_type": "code",
   "execution_count": 141,
   "id": "8d6e12bc-cc88-4714-be6c-02dedb1bf6a4",
   "metadata": {},
   "outputs": [],
   "source": [
    "## CREATE X and y\n",
    "X = df.drop('sales',axis=1)\n",
    "y = df['sales']\n",
    "\n",
    "# TRAIN TEST SPLIT\n",
    "from sklearn.model_selection import train_test_split\n",
    "X_train, X_test, y_train, y_test = train_test_split(X, y, test_size=0.3, random_state=101)\n",
    "\n",
    "# SCALE DATA\n",
    "from sklearn.preprocessing import StandardScaler\n",
    "scaler = StandardScaler()\n",
    "scaler.fit(X_train)\n",
    "X_train = scaler.transform(X_train)\n",
    "X_test = scaler.transform(X_test)"
   ]
  },
  {
   "cell_type": "code",
   "execution_count": 142,
   "id": "10d96899-d8a1-4668-8f3b-333ef4a6dfc9",
   "metadata": {},
   "outputs": [],
   "source": [
    "from sklearn.linear_model import ElasticNet"
   ]
  },
  {
   "cell_type": "code",
   "execution_count": 144,
   "id": "a86053cb-2a7f-4e40-8bd2-ae6284abdecc",
   "metadata": {},
   "outputs": [],
   "source": [
    "# help(ElasticNet)"
   ]
  },
  {
   "cell_type": "code",
   "execution_count": 145,
   "id": "9f7e7636-3a9e-407d-8331-601ad31ca35f",
   "metadata": {},
   "outputs": [],
   "source": [
    "base_elastic_net_model = ElasticNet()"
   ]
  },
  {
   "cell_type": "code",
   "execution_count": 158,
   "id": "e3ebe2f7-daa3-4bd1-bdb0-d954f8304359",
   "metadata": {},
   "outputs": [],
   "source": [
    "param_grid = {'alpha':[0.1,1,5,10,50,100], 'l1_ratio':[.1,.5,.7,.95,.99,1]}"
   ]
  },
  {
   "cell_type": "code",
   "execution_count": 159,
   "id": "f466ee9e-cdb4-4f3b-8e64-8cd4f58edff1",
   "metadata": {},
   "outputs": [],
   "source": [
    "from sklearn.model_selection import GridSearchCV"
   ]
  },
  {
   "cell_type": "code",
   "execution_count": 160,
   "id": "5b4bdfc3-b9d8-401f-a359-2b335196fd9e",
   "metadata": {},
   "outputs": [],
   "source": [
    "grid_model = GridSearchCV(estimator=base_elastic_net_model,param_grid=param_grid,scoring='neg_mean_squared_error', cv=5, verbose=1)"
   ]
  },
  {
   "cell_type": "code",
   "execution_count": 161,
   "id": "4b5ab94c-9d8c-4eea-8bbc-31a36488dd2d",
   "metadata": {},
   "outputs": [
    {
     "name": "stdout",
     "output_type": "stream",
     "text": [
      "Fitting 5 folds for each of 36 candidates, totalling 180 fits\n"
     ]
    },
    {
     "data": {
      "text/plain": [
       "GridSearchCV(cv=5, estimator=ElasticNet(),\n",
       "             param_grid={'alpha': [0.1, 1, 5, 10, 50, 100],\n",
       "                         'l1_ratio': [0.1, 0.5, 0.7, 0.95, 0.99, 1]},\n",
       "             scoring='neg_mean_squared_error', verbose=1)"
      ]
     },
     "execution_count": 161,
     "metadata": {},
     "output_type": "execute_result"
    }
   ],
   "source": [
    "grid_model.fit(X_train,y_train)"
   ]
  },
  {
   "cell_type": "code",
   "execution_count": 162,
   "id": "c61c7697-d09c-4c96-a755-90c452ab73fe",
   "metadata": {},
   "outputs": [
    {
     "data": {
      "text/plain": [
       "ElasticNet(alpha=0.1, l1_ratio=1)"
      ]
     },
     "execution_count": 162,
     "metadata": {},
     "output_type": "execute_result"
    }
   ],
   "source": [
    "grid_model.best_estimator_"
   ]
  },
  {
   "cell_type": "code",
   "execution_count": 163,
   "id": "76ee0c2a-716a-4687-a089-9f4c9fbbb953",
   "metadata": {},
   "outputs": [
    {
     "data": {
      "text/plain": [
       "{'alpha': 0.1, 'l1_ratio': 1}"
      ]
     },
     "execution_count": 163,
     "metadata": {},
     "output_type": "execute_result"
    }
   ],
   "source": [
    "grid_model.best_params_"
   ]
  },
  {
   "cell_type": "code",
   "execution_count": 164,
   "id": "2aa438f1-7c48-4e7a-ac68-3d3257cb3f97",
   "metadata": {},
   "outputs": [
    {
     "data": {
      "text/html": [
       "<div>\n",
       "<style scoped>\n",
       "    .dataframe tbody tr th:only-of-type {\n",
       "        vertical-align: middle;\n",
       "    }\n",
       "\n",
       "    .dataframe tbody tr th {\n",
       "        vertical-align: top;\n",
       "    }\n",
       "\n",
       "    .dataframe thead th {\n",
       "        text-align: right;\n",
       "    }\n",
       "</style>\n",
       "<table border=\"1\" class=\"dataframe\">\n",
       "  <thead>\n",
       "    <tr style=\"text-align: right;\">\n",
       "      <th></th>\n",
       "      <th>mean_fit_time</th>\n",
       "      <th>std_fit_time</th>\n",
       "      <th>mean_score_time</th>\n",
       "      <th>std_score_time</th>\n",
       "      <th>param_alpha</th>\n",
       "      <th>param_l1_ratio</th>\n",
       "      <th>params</th>\n",
       "      <th>split0_test_score</th>\n",
       "      <th>split1_test_score</th>\n",
       "      <th>split2_test_score</th>\n",
       "      <th>split3_test_score</th>\n",
       "      <th>split4_test_score</th>\n",
       "      <th>mean_test_score</th>\n",
       "      <th>std_test_score</th>\n",
       "      <th>rank_test_score</th>\n",
       "    </tr>\n",
       "  </thead>\n",
       "  <tbody>\n",
       "    <tr>\n",
       "      <th>0</th>\n",
       "      <td>0.004905</td>\n",
       "      <td>0.002619</td>\n",
       "      <td>0.001477</td>\n",
       "      <td>0.000520</td>\n",
       "      <td>0.1</td>\n",
       "      <td>0.1</td>\n",
       "      <td>{'alpha': 0.1, 'l1_ratio': 0.1}</td>\n",
       "      <td>-3.453021</td>\n",
       "      <td>-1.405190</td>\n",
       "      <td>-5.789125</td>\n",
       "      <td>-2.187302</td>\n",
       "      <td>-4.645576</td>\n",
       "      <td>-3.496043</td>\n",
       "      <td>1.591601</td>\n",
       "      <td>6</td>\n",
       "    </tr>\n",
       "    <tr>\n",
       "      <th>1</th>\n",
       "      <td>0.003027</td>\n",
       "      <td>0.001957</td>\n",
       "      <td>0.003315</td>\n",
       "      <td>0.002160</td>\n",
       "      <td>0.1</td>\n",
       "      <td>0.5</td>\n",
       "      <td>{'alpha': 0.1, 'l1_ratio': 0.5}</td>\n",
       "      <td>-3.325440</td>\n",
       "      <td>-1.427522</td>\n",
       "      <td>-5.595610</td>\n",
       "      <td>-2.163089</td>\n",
       "      <td>-4.451679</td>\n",
       "      <td>-3.392668</td>\n",
       "      <td>1.506827</td>\n",
       "      <td>5</td>\n",
       "    </tr>\n",
       "    <tr>\n",
       "      <th>2</th>\n",
       "      <td>0.001825</td>\n",
       "      <td>0.000500</td>\n",
       "      <td>0.001981</td>\n",
       "      <td>0.001860</td>\n",
       "      <td>0.1</td>\n",
       "      <td>0.7</td>\n",
       "      <td>{'alpha': 0.1, 'l1_ratio': 0.7}</td>\n",
       "      <td>-3.269880</td>\n",
       "      <td>-1.442432</td>\n",
       "      <td>-5.502437</td>\n",
       "      <td>-2.163950</td>\n",
       "      <td>-4.356738</td>\n",
       "      <td>-3.347088</td>\n",
       "      <td>1.462765</td>\n",
       "      <td>4</td>\n",
       "    </tr>\n",
       "    <tr>\n",
       "      <th>3</th>\n",
       "      <td>0.001637</td>\n",
       "      <td>0.000616</td>\n",
       "      <td>0.001044</td>\n",
       "      <td>0.000502</td>\n",
       "      <td>0.1</td>\n",
       "      <td>0.95</td>\n",
       "      <td>{'alpha': 0.1, 'l1_ratio': 0.95}</td>\n",
       "      <td>-3.213052</td>\n",
       "      <td>-1.472417</td>\n",
       "      <td>-5.396258</td>\n",
       "      <td>-2.177452</td>\n",
       "      <td>-4.241080</td>\n",
       "      <td>-3.300052</td>\n",
       "      <td>1.406248</td>\n",
       "      <td>3</td>\n",
       "    </tr>\n",
       "    <tr>\n",
       "      <th>4</th>\n",
       "      <td>0.003613</td>\n",
       "      <td>0.002932</td>\n",
       "      <td>0.000915</td>\n",
       "      <td>0.000457</td>\n",
       "      <td>0.1</td>\n",
       "      <td>0.99</td>\n",
       "      <td>{'alpha': 0.1, 'l1_ratio': 0.99}</td>\n",
       "      <td>-3.208124</td>\n",
       "      <td>-1.478489</td>\n",
       "      <td>-5.380242</td>\n",
       "      <td>-2.181097</td>\n",
       "      <td>-4.222968</td>\n",
       "      <td>-3.294184</td>\n",
       "      <td>1.396953</td>\n",
       "      <td>2</td>\n",
       "    </tr>\n",
       "    <tr>\n",
       "      <th>5</th>\n",
       "      <td>0.001764</td>\n",
       "      <td>0.000674</td>\n",
       "      <td>0.000674</td>\n",
       "      <td>0.000440</td>\n",
       "      <td>0.1</td>\n",
       "      <td>1</td>\n",
       "      <td>{'alpha': 0.1, 'l1_ratio': 1}</td>\n",
       "      <td>-3.206943</td>\n",
       "      <td>-1.480065</td>\n",
       "      <td>-5.376257</td>\n",
       "      <td>-2.182076</td>\n",
       "      <td>-4.218460</td>\n",
       "      <td>-3.292760</td>\n",
       "      <td>1.394613</td>\n",
       "      <td>1</td>\n",
       "    </tr>\n",
       "    <tr>\n",
       "      <th>6</th>\n",
       "      <td>0.001362</td>\n",
       "      <td>0.000390</td>\n",
       "      <td>0.000605</td>\n",
       "      <td>0.000229</td>\n",
       "      <td>1</td>\n",
       "      <td>0.1</td>\n",
       "      <td>{'alpha': 1, 'l1_ratio': 0.1}</td>\n",
       "      <td>-9.827475</td>\n",
       "      <td>-5.261525</td>\n",
       "      <td>-11.875347</td>\n",
       "      <td>-7.449195</td>\n",
       "      <td>-8.542329</td>\n",
       "      <td>-8.591174</td>\n",
       "      <td>2.222939</td>\n",
       "      <td>12</td>\n",
       "    </tr>\n",
       "    <tr>\n",
       "      <th>7</th>\n",
       "      <td>0.001689</td>\n",
       "      <td>0.000672</td>\n",
       "      <td>0.000676</td>\n",
       "      <td>0.000202</td>\n",
       "      <td>1</td>\n",
       "      <td>0.5</td>\n",
       "      <td>{'alpha': 1, 'l1_ratio': 0.5}</td>\n",
       "      <td>-8.707071</td>\n",
       "      <td>-4.214228</td>\n",
       "      <td>-10.879261</td>\n",
       "      <td>-6.204545</td>\n",
       "      <td>-7.173031</td>\n",
       "      <td>-7.435627</td>\n",
       "      <td>2.255532</td>\n",
       "      <td>11</td>\n",
       "    </tr>\n",
       "    <tr>\n",
       "      <th>8</th>\n",
       "      <td>0.001139</td>\n",
       "      <td>0.000229</td>\n",
       "      <td>0.000638</td>\n",
       "      <td>0.000417</td>\n",
       "      <td>1</td>\n",
       "      <td>0.7</td>\n",
       "      <td>{'alpha': 1, 'l1_ratio': 0.7}</td>\n",
       "      <td>-7.920870</td>\n",
       "      <td>-3.549562</td>\n",
       "      <td>-10.024877</td>\n",
       "      <td>-5.379553</td>\n",
       "      <td>-6.324836</td>\n",
       "      <td>-6.639940</td>\n",
       "      <td>2.206213</td>\n",
       "      <td>10</td>\n",
       "    </tr>\n",
       "    <tr>\n",
       "      <th>9</th>\n",
       "      <td>0.001177</td>\n",
       "      <td>0.000275</td>\n",
       "      <td>0.000432</td>\n",
       "      <td>0.000042</td>\n",
       "      <td>1</td>\n",
       "      <td>0.95</td>\n",
       "      <td>{'alpha': 1, 'l1_ratio': 0.95}</td>\n",
       "      <td>-6.729435</td>\n",
       "      <td>-2.591285</td>\n",
       "      <td>-8.709842</td>\n",
       "      <td>-4.156317</td>\n",
       "      <td>-5.329916</td>\n",
       "      <td>-5.503359</td>\n",
       "      <td>2.102835</td>\n",
       "      <td>9</td>\n",
       "    </tr>\n",
       "    <tr>\n",
       "      <th>10</th>\n",
       "      <td>0.001048</td>\n",
       "      <td>0.000081</td>\n",
       "      <td>0.000484</td>\n",
       "      <td>0.000110</td>\n",
       "      <td>1</td>\n",
       "      <td>0.99</td>\n",
       "      <td>{'alpha': 1, 'l1_ratio': 0.99}</td>\n",
       "      <td>-6.521344</td>\n",
       "      <td>-2.431385</td>\n",
       "      <td>-8.471086</td>\n",
       "      <td>-3.946327</td>\n",
       "      <td>-5.151344</td>\n",
       "      <td>-5.304297</td>\n",
       "      <td>2.079945</td>\n",
       "      <td>8</td>\n",
       "    </tr>\n",
       "    <tr>\n",
       "      <th>11</th>\n",
       "      <td>0.001460</td>\n",
       "      <td>0.000476</td>\n",
       "      <td>0.001132</td>\n",
       "      <td>0.000659</td>\n",
       "      <td>1</td>\n",
       "      <td>1</td>\n",
       "      <td>{'alpha': 1, 'l1_ratio': 1}</td>\n",
       "      <td>-6.468807</td>\n",
       "      <td>-2.391483</td>\n",
       "      <td>-8.410171</td>\n",
       "      <td>-3.893566</td>\n",
       "      <td>-5.105922</td>\n",
       "      <td>-5.253990</td>\n",
       "      <td>2.073832</td>\n",
       "      <td>7</td>\n",
       "    </tr>\n",
       "    <tr>\n",
       "      <th>12</th>\n",
       "      <td>0.001489</td>\n",
       "      <td>0.000347</td>\n",
       "      <td>0.000814</td>\n",
       "      <td>0.000472</td>\n",
       "      <td>5</td>\n",
       "      <td>0.1</td>\n",
       "      <td>{'alpha': 5, 'l1_ratio': 0.1}</td>\n",
       "      <td>-22.979265</td>\n",
       "      <td>-15.547104</td>\n",
       "      <td>-23.668249</td>\n",
       "      <td>-19.921063</td>\n",
       "      <td>-16.262737</td>\n",
       "      <td>-19.675684</td>\n",
       "      <td>3.334901</td>\n",
       "      <td>13</td>\n",
       "    </tr>\n",
       "    <tr>\n",
       "      <th>13</th>\n",
       "      <td>0.001716</td>\n",
       "      <td>0.000925</td>\n",
       "      <td>0.000782</td>\n",
       "      <td>0.000562</td>\n",
       "      <td>5</td>\n",
       "      <td>0.5</td>\n",
       "      <td>{'alpha': 5, 'l1_ratio': 0.5}</td>\n",
       "      <td>-27.793488</td>\n",
       "      <td>-18.602269</td>\n",
       "      <td>-27.107849</td>\n",
       "      <td>-23.945227</td>\n",
       "      <td>-18.064635</td>\n",
       "      <td>-23.102694</td>\n",
       "      <td>4.108297</td>\n",
       "      <td>14</td>\n",
       "    </tr>\n",
       "    <tr>\n",
       "      <th>14</th>\n",
       "      <td>0.001569</td>\n",
       "      <td>0.001039</td>\n",
       "      <td>0.000447</td>\n",
       "      <td>0.000059</td>\n",
       "      <td>5</td>\n",
       "      <td>0.7</td>\n",
       "      <td>{'alpha': 5, 'l1_ratio': 0.7}</td>\n",
       "      <td>-29.655510</td>\n",
       "      <td>-21.085059</td>\n",
       "      <td>-29.629478</td>\n",
       "      <td>-26.724595</td>\n",
       "      <td>-20.223654</td>\n",
       "      <td>-25.463659</td>\n",
       "      <td>4.077877</td>\n",
       "      <td>16</td>\n",
       "    </tr>\n",
       "    <tr>\n",
       "      <th>15</th>\n",
       "      <td>0.001004</td>\n",
       "      <td>0.000197</td>\n",
       "      <td>0.000422</td>\n",
       "      <td>0.000066</td>\n",
       "      <td>5</td>\n",
       "      <td>0.95</td>\n",
       "      <td>{'alpha': 5, 'l1_ratio': 0.95}</td>\n",
       "      <td>-31.130307</td>\n",
       "      <td>-22.549433</td>\n",
       "      <td>-31.155204</td>\n",
       "      <td>-27.963447</td>\n",
       "      <td>-21.698192</td>\n",
       "      <td>-26.899317</td>\n",
       "      <td>4.077240</td>\n",
       "      <td>17</td>\n",
       "    </tr>\n",
       "    <tr>\n",
       "      <th>16</th>\n",
       "      <td>0.001143</td>\n",
       "      <td>0.000500</td>\n",
       "      <td>0.000436</td>\n",
       "      <td>0.000055</td>\n",
       "      <td>5</td>\n",
       "      <td>0.99</td>\n",
       "      <td>{'alpha': 5, 'l1_ratio': 0.99}</td>\n",
       "      <td>-31.130307</td>\n",
       "      <td>-22.549433</td>\n",
       "      <td>-31.155204</td>\n",
       "      <td>-27.963447</td>\n",
       "      <td>-21.698192</td>\n",
       "      <td>-26.899317</td>\n",
       "      <td>4.077240</td>\n",
       "      <td>17</td>\n",
       "    </tr>\n",
       "    <tr>\n",
       "      <th>17</th>\n",
       "      <td>0.000909</td>\n",
       "      <td>0.000077</td>\n",
       "      <td>0.000448</td>\n",
       "      <td>0.000105</td>\n",
       "      <td>5</td>\n",
       "      <td>1</td>\n",
       "      <td>{'alpha': 5, 'l1_ratio': 1}</td>\n",
       "      <td>-31.130307</td>\n",
       "      <td>-22.549433</td>\n",
       "      <td>-31.155204</td>\n",
       "      <td>-27.963447</td>\n",
       "      <td>-21.698192</td>\n",
       "      <td>-26.899317</td>\n",
       "      <td>4.077240</td>\n",
       "      <td>17</td>\n",
       "    </tr>\n",
       "    <tr>\n",
       "      <th>18</th>\n",
       "      <td>0.000967</td>\n",
       "      <td>0.000124</td>\n",
       "      <td>0.000462</td>\n",
       "      <td>0.000126</td>\n",
       "      <td>10</td>\n",
       "      <td>0.1</td>\n",
       "      <td>{'alpha': 10, 'l1_ratio': 0.1}</td>\n",
       "      <td>-27.385346</td>\n",
       "      <td>-19.159534</td>\n",
       "      <td>-27.635464</td>\n",
       "      <td>-24.154104</td>\n",
       "      <td>-18.968161</td>\n",
       "      <td>-23.460522</td>\n",
       "      <td>3.794608</td>\n",
       "      <td>15</td>\n",
       "    </tr>\n",
       "    <tr>\n",
       "      <th>19</th>\n",
       "      <td>0.002131</td>\n",
       "      <td>0.001182</td>\n",
       "      <td>0.000557</td>\n",
       "      <td>0.000210</td>\n",
       "      <td>10</td>\n",
       "      <td>0.5</td>\n",
       "      <td>{'alpha': 10, 'l1_ratio': 0.5}</td>\n",
       "      <td>-31.130307</td>\n",
       "      <td>-22.549433</td>\n",
       "      <td>-31.155204</td>\n",
       "      <td>-27.963447</td>\n",
       "      <td>-21.698192</td>\n",
       "      <td>-26.899317</td>\n",
       "      <td>4.077240</td>\n",
       "      <td>17</td>\n",
       "    </tr>\n",
       "    <tr>\n",
       "      <th>20</th>\n",
       "      <td>0.001683</td>\n",
       "      <td>0.000665</td>\n",
       "      <td>0.000559</td>\n",
       "      <td>0.000166</td>\n",
       "      <td>10</td>\n",
       "      <td>0.7</td>\n",
       "      <td>{'alpha': 10, 'l1_ratio': 0.7}</td>\n",
       "      <td>-31.130307</td>\n",
       "      <td>-22.549433</td>\n",
       "      <td>-31.155204</td>\n",
       "      <td>-27.963447</td>\n",
       "      <td>-21.698192</td>\n",
       "      <td>-26.899317</td>\n",
       "      <td>4.077240</td>\n",
       "      <td>17</td>\n",
       "    </tr>\n",
       "    <tr>\n",
       "      <th>21</th>\n",
       "      <td>0.002052</td>\n",
       "      <td>0.000390</td>\n",
       "      <td>0.001172</td>\n",
       "      <td>0.000402</td>\n",
       "      <td>10</td>\n",
       "      <td>0.95</td>\n",
       "      <td>{'alpha': 10, 'l1_ratio': 0.95}</td>\n",
       "      <td>-31.130307</td>\n",
       "      <td>-22.549433</td>\n",
       "      <td>-31.155204</td>\n",
       "      <td>-27.963447</td>\n",
       "      <td>-21.698192</td>\n",
       "      <td>-26.899317</td>\n",
       "      <td>4.077240</td>\n",
       "      <td>17</td>\n",
       "    </tr>\n",
       "    <tr>\n",
       "      <th>22</th>\n",
       "      <td>0.001352</td>\n",
       "      <td>0.000335</td>\n",
       "      <td>0.000575</td>\n",
       "      <td>0.000190</td>\n",
       "      <td>10</td>\n",
       "      <td>0.99</td>\n",
       "      <td>{'alpha': 10, 'l1_ratio': 0.99}</td>\n",
       "      <td>-31.130307</td>\n",
       "      <td>-22.549433</td>\n",
       "      <td>-31.155204</td>\n",
       "      <td>-27.963447</td>\n",
       "      <td>-21.698192</td>\n",
       "      <td>-26.899317</td>\n",
       "      <td>4.077240</td>\n",
       "      <td>17</td>\n",
       "    </tr>\n",
       "    <tr>\n",
       "      <th>23</th>\n",
       "      <td>0.001578</td>\n",
       "      <td>0.000866</td>\n",
       "      <td>0.000409</td>\n",
       "      <td>0.000029</td>\n",
       "      <td>10</td>\n",
       "      <td>1</td>\n",
       "      <td>{'alpha': 10, 'l1_ratio': 1}</td>\n",
       "      <td>-31.130307</td>\n",
       "      <td>-22.549433</td>\n",
       "      <td>-31.155204</td>\n",
       "      <td>-27.963447</td>\n",
       "      <td>-21.698192</td>\n",
       "      <td>-26.899317</td>\n",
       "      <td>4.077240</td>\n",
       "      <td>17</td>\n",
       "    </tr>\n",
       "    <tr>\n",
       "      <th>24</th>\n",
       "      <td>0.001124</td>\n",
       "      <td>0.000246</td>\n",
       "      <td>0.000469</td>\n",
       "      <td>0.000076</td>\n",
       "      <td>50</td>\n",
       "      <td>0.1</td>\n",
       "      <td>{'alpha': 50, 'l1_ratio': 0.1}</td>\n",
       "      <td>-31.130307</td>\n",
       "      <td>-22.549433</td>\n",
       "      <td>-31.155204</td>\n",
       "      <td>-27.963447</td>\n",
       "      <td>-21.698192</td>\n",
       "      <td>-26.899317</td>\n",
       "      <td>4.077240</td>\n",
       "      <td>17</td>\n",
       "    </tr>\n",
       "    <tr>\n",
       "      <th>25</th>\n",
       "      <td>0.000864</td>\n",
       "      <td>0.000051</td>\n",
       "      <td>0.000365</td>\n",
       "      <td>0.000005</td>\n",
       "      <td>50</td>\n",
       "      <td>0.5</td>\n",
       "      <td>{'alpha': 50, 'l1_ratio': 0.5}</td>\n",
       "      <td>-31.130307</td>\n",
       "      <td>-22.549433</td>\n",
       "      <td>-31.155204</td>\n",
       "      <td>-27.963447</td>\n",
       "      <td>-21.698192</td>\n",
       "      <td>-26.899317</td>\n",
       "      <td>4.077240</td>\n",
       "      <td>17</td>\n",
       "    </tr>\n",
       "    <tr>\n",
       "      <th>26</th>\n",
       "      <td>0.001042</td>\n",
       "      <td>0.000308</td>\n",
       "      <td>0.000497</td>\n",
       "      <td>0.000180</td>\n",
       "      <td>50</td>\n",
       "      <td>0.7</td>\n",
       "      <td>{'alpha': 50, 'l1_ratio': 0.7}</td>\n",
       "      <td>-31.130307</td>\n",
       "      <td>-22.549433</td>\n",
       "      <td>-31.155204</td>\n",
       "      <td>-27.963447</td>\n",
       "      <td>-21.698192</td>\n",
       "      <td>-26.899317</td>\n",
       "      <td>4.077240</td>\n",
       "      <td>17</td>\n",
       "    </tr>\n",
       "    <tr>\n",
       "      <th>27</th>\n",
       "      <td>0.001166</td>\n",
       "      <td>0.000343</td>\n",
       "      <td>0.000537</td>\n",
       "      <td>0.000188</td>\n",
       "      <td>50</td>\n",
       "      <td>0.95</td>\n",
       "      <td>{'alpha': 50, 'l1_ratio': 0.95}</td>\n",
       "      <td>-31.130307</td>\n",
       "      <td>-22.549433</td>\n",
       "      <td>-31.155204</td>\n",
       "      <td>-27.963447</td>\n",
       "      <td>-21.698192</td>\n",
       "      <td>-26.899317</td>\n",
       "      <td>4.077240</td>\n",
       "      <td>17</td>\n",
       "    </tr>\n",
       "    <tr>\n",
       "      <th>28</th>\n",
       "      <td>0.000958</td>\n",
       "      <td>0.000073</td>\n",
       "      <td>0.000487</td>\n",
       "      <td>0.000130</td>\n",
       "      <td>50</td>\n",
       "      <td>0.99</td>\n",
       "      <td>{'alpha': 50, 'l1_ratio': 0.99}</td>\n",
       "      <td>-31.130307</td>\n",
       "      <td>-22.549433</td>\n",
       "      <td>-31.155204</td>\n",
       "      <td>-27.963447</td>\n",
       "      <td>-21.698192</td>\n",
       "      <td>-26.899317</td>\n",
       "      <td>4.077240</td>\n",
       "      <td>17</td>\n",
       "    </tr>\n",
       "    <tr>\n",
       "      <th>29</th>\n",
       "      <td>0.001555</td>\n",
       "      <td>0.000797</td>\n",
       "      <td>0.000555</td>\n",
       "      <td>0.000230</td>\n",
       "      <td>50</td>\n",
       "      <td>1</td>\n",
       "      <td>{'alpha': 50, 'l1_ratio': 1}</td>\n",
       "      <td>-31.130307</td>\n",
       "      <td>-22.549433</td>\n",
       "      <td>-31.155204</td>\n",
       "      <td>-27.963447</td>\n",
       "      <td>-21.698192</td>\n",
       "      <td>-26.899317</td>\n",
       "      <td>4.077240</td>\n",
       "      <td>17</td>\n",
       "    </tr>\n",
       "    <tr>\n",
       "      <th>30</th>\n",
       "      <td>0.001132</td>\n",
       "      <td>0.000290</td>\n",
       "      <td>0.000537</td>\n",
       "      <td>0.000206</td>\n",
       "      <td>100</td>\n",
       "      <td>0.1</td>\n",
       "      <td>{'alpha': 100, 'l1_ratio': 0.1}</td>\n",
       "      <td>-31.130307</td>\n",
       "      <td>-22.549433</td>\n",
       "      <td>-31.155204</td>\n",
       "      <td>-27.963447</td>\n",
       "      <td>-21.698192</td>\n",
       "      <td>-26.899317</td>\n",
       "      <td>4.077240</td>\n",
       "      <td>17</td>\n",
       "    </tr>\n",
       "    <tr>\n",
       "      <th>31</th>\n",
       "      <td>0.001006</td>\n",
       "      <td>0.000126</td>\n",
       "      <td>0.000432</td>\n",
       "      <td>0.000092</td>\n",
       "      <td>100</td>\n",
       "      <td>0.5</td>\n",
       "      <td>{'alpha': 100, 'l1_ratio': 0.5}</td>\n",
       "      <td>-31.130307</td>\n",
       "      <td>-22.549433</td>\n",
       "      <td>-31.155204</td>\n",
       "      <td>-27.963447</td>\n",
       "      <td>-21.698192</td>\n",
       "      <td>-26.899317</td>\n",
       "      <td>4.077240</td>\n",
       "      <td>17</td>\n",
       "    </tr>\n",
       "    <tr>\n",
       "      <th>32</th>\n",
       "      <td>0.001016</td>\n",
       "      <td>0.000190</td>\n",
       "      <td>0.000597</td>\n",
       "      <td>0.000411</td>\n",
       "      <td>100</td>\n",
       "      <td>0.7</td>\n",
       "      <td>{'alpha': 100, 'l1_ratio': 0.7}</td>\n",
       "      <td>-31.130307</td>\n",
       "      <td>-22.549433</td>\n",
       "      <td>-31.155204</td>\n",
       "      <td>-27.963447</td>\n",
       "      <td>-21.698192</td>\n",
       "      <td>-26.899317</td>\n",
       "      <td>4.077240</td>\n",
       "      <td>17</td>\n",
       "    </tr>\n",
       "    <tr>\n",
       "      <th>33</th>\n",
       "      <td>0.000857</td>\n",
       "      <td>0.000072</td>\n",
       "      <td>0.000373</td>\n",
       "      <td>0.000013</td>\n",
       "      <td>100</td>\n",
       "      <td>0.95</td>\n",
       "      <td>{'alpha': 100, 'l1_ratio': 0.95}</td>\n",
       "      <td>-31.130307</td>\n",
       "      <td>-22.549433</td>\n",
       "      <td>-31.155204</td>\n",
       "      <td>-27.963447</td>\n",
       "      <td>-21.698192</td>\n",
       "      <td>-26.899317</td>\n",
       "      <td>4.077240</td>\n",
       "      <td>17</td>\n",
       "    </tr>\n",
       "    <tr>\n",
       "      <th>34</th>\n",
       "      <td>0.001028</td>\n",
       "      <td>0.000186</td>\n",
       "      <td>0.000383</td>\n",
       "      <td>0.000021</td>\n",
       "      <td>100</td>\n",
       "      <td>0.99</td>\n",
       "      <td>{'alpha': 100, 'l1_ratio': 0.99}</td>\n",
       "      <td>-31.130307</td>\n",
       "      <td>-22.549433</td>\n",
       "      <td>-31.155204</td>\n",
       "      <td>-27.963447</td>\n",
       "      <td>-21.698192</td>\n",
       "      <td>-26.899317</td>\n",
       "      <td>4.077240</td>\n",
       "      <td>17</td>\n",
       "    </tr>\n",
       "    <tr>\n",
       "      <th>35</th>\n",
       "      <td>0.001153</td>\n",
       "      <td>0.000282</td>\n",
       "      <td>0.000491</td>\n",
       "      <td>0.000109</td>\n",
       "      <td>100</td>\n",
       "      <td>1</td>\n",
       "      <td>{'alpha': 100, 'l1_ratio': 1}</td>\n",
       "      <td>-31.130307</td>\n",
       "      <td>-22.549433</td>\n",
       "      <td>-31.155204</td>\n",
       "      <td>-27.963447</td>\n",
       "      <td>-21.698192</td>\n",
       "      <td>-26.899317</td>\n",
       "      <td>4.077240</td>\n",
       "      <td>17</td>\n",
       "    </tr>\n",
       "  </tbody>\n",
       "</table>\n",
       "</div>"
      ],
      "text/plain": [
       "    mean_fit_time  std_fit_time  mean_score_time  std_score_time param_alpha  \\\n",
       "0        0.004905      0.002619         0.001477        0.000520         0.1   \n",
       "1        0.003027      0.001957         0.003315        0.002160         0.1   \n",
       "2        0.001825      0.000500         0.001981        0.001860         0.1   \n",
       "3        0.001637      0.000616         0.001044        0.000502         0.1   \n",
       "4        0.003613      0.002932         0.000915        0.000457         0.1   \n",
       "5        0.001764      0.000674         0.000674        0.000440         0.1   \n",
       "6        0.001362      0.000390         0.000605        0.000229           1   \n",
       "7        0.001689      0.000672         0.000676        0.000202           1   \n",
       "8        0.001139      0.000229         0.000638        0.000417           1   \n",
       "9        0.001177      0.000275         0.000432        0.000042           1   \n",
       "10       0.001048      0.000081         0.000484        0.000110           1   \n",
       "11       0.001460      0.000476         0.001132        0.000659           1   \n",
       "12       0.001489      0.000347         0.000814        0.000472           5   \n",
       "13       0.001716      0.000925         0.000782        0.000562           5   \n",
       "14       0.001569      0.001039         0.000447        0.000059           5   \n",
       "15       0.001004      0.000197         0.000422        0.000066           5   \n",
       "16       0.001143      0.000500         0.000436        0.000055           5   \n",
       "17       0.000909      0.000077         0.000448        0.000105           5   \n",
       "18       0.000967      0.000124         0.000462        0.000126          10   \n",
       "19       0.002131      0.001182         0.000557        0.000210          10   \n",
       "20       0.001683      0.000665         0.000559        0.000166          10   \n",
       "21       0.002052      0.000390         0.001172        0.000402          10   \n",
       "22       0.001352      0.000335         0.000575        0.000190          10   \n",
       "23       0.001578      0.000866         0.000409        0.000029          10   \n",
       "24       0.001124      0.000246         0.000469        0.000076          50   \n",
       "25       0.000864      0.000051         0.000365        0.000005          50   \n",
       "26       0.001042      0.000308         0.000497        0.000180          50   \n",
       "27       0.001166      0.000343         0.000537        0.000188          50   \n",
       "28       0.000958      0.000073         0.000487        0.000130          50   \n",
       "29       0.001555      0.000797         0.000555        0.000230          50   \n",
       "30       0.001132      0.000290         0.000537        0.000206         100   \n",
       "31       0.001006      0.000126         0.000432        0.000092         100   \n",
       "32       0.001016      0.000190         0.000597        0.000411         100   \n",
       "33       0.000857      0.000072         0.000373        0.000013         100   \n",
       "34       0.001028      0.000186         0.000383        0.000021         100   \n",
       "35       0.001153      0.000282         0.000491        0.000109         100   \n",
       "\n",
       "   param_l1_ratio                            params  split0_test_score  \\\n",
       "0             0.1   {'alpha': 0.1, 'l1_ratio': 0.1}          -3.453021   \n",
       "1             0.5   {'alpha': 0.1, 'l1_ratio': 0.5}          -3.325440   \n",
       "2             0.7   {'alpha': 0.1, 'l1_ratio': 0.7}          -3.269880   \n",
       "3            0.95  {'alpha': 0.1, 'l1_ratio': 0.95}          -3.213052   \n",
       "4            0.99  {'alpha': 0.1, 'l1_ratio': 0.99}          -3.208124   \n",
       "5               1     {'alpha': 0.1, 'l1_ratio': 1}          -3.206943   \n",
       "6             0.1     {'alpha': 1, 'l1_ratio': 0.1}          -9.827475   \n",
       "7             0.5     {'alpha': 1, 'l1_ratio': 0.5}          -8.707071   \n",
       "8             0.7     {'alpha': 1, 'l1_ratio': 0.7}          -7.920870   \n",
       "9            0.95    {'alpha': 1, 'l1_ratio': 0.95}          -6.729435   \n",
       "10           0.99    {'alpha': 1, 'l1_ratio': 0.99}          -6.521344   \n",
       "11              1       {'alpha': 1, 'l1_ratio': 1}          -6.468807   \n",
       "12            0.1     {'alpha': 5, 'l1_ratio': 0.1}         -22.979265   \n",
       "13            0.5     {'alpha': 5, 'l1_ratio': 0.5}         -27.793488   \n",
       "14            0.7     {'alpha': 5, 'l1_ratio': 0.7}         -29.655510   \n",
       "15           0.95    {'alpha': 5, 'l1_ratio': 0.95}         -31.130307   \n",
       "16           0.99    {'alpha': 5, 'l1_ratio': 0.99}         -31.130307   \n",
       "17              1       {'alpha': 5, 'l1_ratio': 1}         -31.130307   \n",
       "18            0.1    {'alpha': 10, 'l1_ratio': 0.1}         -27.385346   \n",
       "19            0.5    {'alpha': 10, 'l1_ratio': 0.5}         -31.130307   \n",
       "20            0.7    {'alpha': 10, 'l1_ratio': 0.7}         -31.130307   \n",
       "21           0.95   {'alpha': 10, 'l1_ratio': 0.95}         -31.130307   \n",
       "22           0.99   {'alpha': 10, 'l1_ratio': 0.99}         -31.130307   \n",
       "23              1      {'alpha': 10, 'l1_ratio': 1}         -31.130307   \n",
       "24            0.1    {'alpha': 50, 'l1_ratio': 0.1}         -31.130307   \n",
       "25            0.5    {'alpha': 50, 'l1_ratio': 0.5}         -31.130307   \n",
       "26            0.7    {'alpha': 50, 'l1_ratio': 0.7}         -31.130307   \n",
       "27           0.95   {'alpha': 50, 'l1_ratio': 0.95}         -31.130307   \n",
       "28           0.99   {'alpha': 50, 'l1_ratio': 0.99}         -31.130307   \n",
       "29              1      {'alpha': 50, 'l1_ratio': 1}         -31.130307   \n",
       "30            0.1   {'alpha': 100, 'l1_ratio': 0.1}         -31.130307   \n",
       "31            0.5   {'alpha': 100, 'l1_ratio': 0.5}         -31.130307   \n",
       "32            0.7   {'alpha': 100, 'l1_ratio': 0.7}         -31.130307   \n",
       "33           0.95  {'alpha': 100, 'l1_ratio': 0.95}         -31.130307   \n",
       "34           0.99  {'alpha': 100, 'l1_ratio': 0.99}         -31.130307   \n",
       "35              1     {'alpha': 100, 'l1_ratio': 1}         -31.130307   \n",
       "\n",
       "    split1_test_score  split2_test_score  split3_test_score  \\\n",
       "0           -1.405190          -5.789125          -2.187302   \n",
       "1           -1.427522          -5.595610          -2.163089   \n",
       "2           -1.442432          -5.502437          -2.163950   \n",
       "3           -1.472417          -5.396258          -2.177452   \n",
       "4           -1.478489          -5.380242          -2.181097   \n",
       "5           -1.480065          -5.376257          -2.182076   \n",
       "6           -5.261525         -11.875347          -7.449195   \n",
       "7           -4.214228         -10.879261          -6.204545   \n",
       "8           -3.549562         -10.024877          -5.379553   \n",
       "9           -2.591285          -8.709842          -4.156317   \n",
       "10          -2.431385          -8.471086          -3.946327   \n",
       "11          -2.391483          -8.410171          -3.893566   \n",
       "12         -15.547104         -23.668249         -19.921063   \n",
       "13         -18.602269         -27.107849         -23.945227   \n",
       "14         -21.085059         -29.629478         -26.724595   \n",
       "15         -22.549433         -31.155204         -27.963447   \n",
       "16         -22.549433         -31.155204         -27.963447   \n",
       "17         -22.549433         -31.155204         -27.963447   \n",
       "18         -19.159534         -27.635464         -24.154104   \n",
       "19         -22.549433         -31.155204         -27.963447   \n",
       "20         -22.549433         -31.155204         -27.963447   \n",
       "21         -22.549433         -31.155204         -27.963447   \n",
       "22         -22.549433         -31.155204         -27.963447   \n",
       "23         -22.549433         -31.155204         -27.963447   \n",
       "24         -22.549433         -31.155204         -27.963447   \n",
       "25         -22.549433         -31.155204         -27.963447   \n",
       "26         -22.549433         -31.155204         -27.963447   \n",
       "27         -22.549433         -31.155204         -27.963447   \n",
       "28         -22.549433         -31.155204         -27.963447   \n",
       "29         -22.549433         -31.155204         -27.963447   \n",
       "30         -22.549433         -31.155204         -27.963447   \n",
       "31         -22.549433         -31.155204         -27.963447   \n",
       "32         -22.549433         -31.155204         -27.963447   \n",
       "33         -22.549433         -31.155204         -27.963447   \n",
       "34         -22.549433         -31.155204         -27.963447   \n",
       "35         -22.549433         -31.155204         -27.963447   \n",
       "\n",
       "    split4_test_score  mean_test_score  std_test_score  rank_test_score  \n",
       "0           -4.645576        -3.496043        1.591601                6  \n",
       "1           -4.451679        -3.392668        1.506827                5  \n",
       "2           -4.356738        -3.347088        1.462765                4  \n",
       "3           -4.241080        -3.300052        1.406248                3  \n",
       "4           -4.222968        -3.294184        1.396953                2  \n",
       "5           -4.218460        -3.292760        1.394613                1  \n",
       "6           -8.542329        -8.591174        2.222939               12  \n",
       "7           -7.173031        -7.435627        2.255532               11  \n",
       "8           -6.324836        -6.639940        2.206213               10  \n",
       "9           -5.329916        -5.503359        2.102835                9  \n",
       "10          -5.151344        -5.304297        2.079945                8  \n",
       "11          -5.105922        -5.253990        2.073832                7  \n",
       "12         -16.262737       -19.675684        3.334901               13  \n",
       "13         -18.064635       -23.102694        4.108297               14  \n",
       "14         -20.223654       -25.463659        4.077877               16  \n",
       "15         -21.698192       -26.899317        4.077240               17  \n",
       "16         -21.698192       -26.899317        4.077240               17  \n",
       "17         -21.698192       -26.899317        4.077240               17  \n",
       "18         -18.968161       -23.460522        3.794608               15  \n",
       "19         -21.698192       -26.899317        4.077240               17  \n",
       "20         -21.698192       -26.899317        4.077240               17  \n",
       "21         -21.698192       -26.899317        4.077240               17  \n",
       "22         -21.698192       -26.899317        4.077240               17  \n",
       "23         -21.698192       -26.899317        4.077240               17  \n",
       "24         -21.698192       -26.899317        4.077240               17  \n",
       "25         -21.698192       -26.899317        4.077240               17  \n",
       "26         -21.698192       -26.899317        4.077240               17  \n",
       "27         -21.698192       -26.899317        4.077240               17  \n",
       "28         -21.698192       -26.899317        4.077240               17  \n",
       "29         -21.698192       -26.899317        4.077240               17  \n",
       "30         -21.698192       -26.899317        4.077240               17  \n",
       "31         -21.698192       -26.899317        4.077240               17  \n",
       "32         -21.698192       -26.899317        4.077240               17  \n",
       "33         -21.698192       -26.899317        4.077240               17  \n",
       "34         -21.698192       -26.899317        4.077240               17  \n",
       "35         -21.698192       -26.899317        4.077240               17  "
      ]
     },
     "execution_count": 164,
     "metadata": {},
     "output_type": "execute_result"
    }
   ],
   "source": [
    "pd.DataFrame(grid_model.cv_results_)"
   ]
  },
  {
   "cell_type": "code",
   "execution_count": 165,
   "id": "1a2cb953-6d72-453b-831b-6fb54d99c415",
   "metadata": {},
   "outputs": [],
   "source": [
    "y_pred = grid_model.predict(X_test)"
   ]
  },
  {
   "cell_type": "code",
   "execution_count": 166,
   "id": "1fa91cb3-efcf-4edb-88c5-f3e1ec722f78",
   "metadata": {},
   "outputs": [],
   "source": [
    "from sklearn.metrics import mean_squared_error"
   ]
  },
  {
   "cell_type": "code",
   "execution_count": 168,
   "id": "61e22d16-04d7-4161-a40b-d22c34d34cab",
   "metadata": {},
   "outputs": [
    {
     "data": {
      "text/plain": [
       "2.3873426420874737"
      ]
     },
     "execution_count": 168,
     "metadata": {},
     "output_type": "execute_result"
    }
   ],
   "source": [
    "mean_squared_error(y_test,y_pred)"
   ]
  },
  {
   "cell_type": "code",
   "execution_count": null,
   "id": "b1f4a0d0-60fe-46b0-b839-d32abd75a739",
   "metadata": {},
   "outputs": [],
   "source": []
  }
 ],
 "metadata": {
  "kernelspec": {
   "display_name": "Python 3 (ipykernel)",
   "language": "python",
   "name": "python3"
  },
  "language_info": {
   "codemirror_mode": {
    "name": "ipython",
    "version": 3
   },
   "file_extension": ".py",
   "mimetype": "text/x-python",
   "name": "python",
   "nbconvert_exporter": "python",
   "pygments_lexer": "ipython3",
   "version": "3.7.11"
  }
 },
 "nbformat": 4,
 "nbformat_minor": 5
}
